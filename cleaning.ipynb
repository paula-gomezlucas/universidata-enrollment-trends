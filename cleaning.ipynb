{
 "cells": [
  {
   "cell_type": "code",
   "execution_count": 18,
   "metadata": {},
   "outputs": [],
   "source": [
    "import pandas as pd"
   ]
  },
  {
   "cell_type": "code",
   "execution_count": 19,
   "metadata": {},
   "outputs": [],
   "source": [
    "benjamines_G = pd.read_csv('datos/limpios/benjamines_G.csv', low_memory=False)\n",
    "benjamines_M = pd.read_csv('datos/limpios/benjamines_M.csv', low_memory=False)\n",
    "alevines_G = pd.read_csv('datos/limpios/alevines_G.csv', low_memory=False)\n",
    "alevines_M = pd.read_csv('datos/limpios/alevines_M.csv', low_memory=False)"
   ]
  },
  {
   "cell_type": "markdown",
   "metadata": {},
   "source": [
    "# Funciones de limpieza"
   ]
  },
  {
   "cell_type": "code",
   "execution_count": 20,
   "metadata": {},
   "outputs": [],
   "source": [
    "def get_clean(df):\n",
    "    return df.dropna()\n",
    "\n",
    "def create_dict(df, cod, des):\n",
    "    return dict(zip(df[cod], df[des]))\n",
    "\n",
    "def replace_nans(df, cod, des):\n",
    "    df[des] = df[des].fillna(df[cod].map(create_dict(df, cod, des)))\n",
    "    return df\n",
    "\n",
    "def nans(df):\n",
    "    print(df.isnull().sum()[df.isnull().sum() > 0])"
   ]
  },
  {
   "cell_type": "markdown",
   "metadata": {},
   "source": [
    "# Grados\n",
    "\n",
    "Inicialmente nos interesa sólo grados, especialmente aquellos que es su primer año en el sistema educativo, benjamines_G\n",
    "\n",
    "## Benjamines Grado"
   ]
  },
  {
   "cell_type": "code",
   "execution_count": 21,
   "metadata": {},
   "outputs": [],
   "source": [
    "benjamines_G_nans = get_clean(benjamines_G)"
   ]
  },
  {
   "cell_type": "code",
   "execution_count": 22,
   "metadata": {},
   "outputs": [
    {
     "name": "stdout",
     "output_type": "stream",
     "text": [
      "cod_pais_nacionalidad                    1\n",
      "des_pais_nacionalidad                    1\n",
      "lat_pais_nacionalidad                    1\n",
      "lon_pais_nacionalidad                    1\n",
      "cod_continente_nacionalidad              1\n",
      "des_continente_nacionalidad              1\n",
      "cod_agregacion_paises_nacionalidad       1\n",
      "des_agregacion_paises_nacionalidad       1\n",
      "cod_comunidad_residencia              1782\n",
      "des_comunidad_residencia              1835\n",
      "cod_provincia_residencia              1352\n",
      "des_provincia_residencia              1835\n",
      "cod_municipio_residencia                15\n",
      "des_municipio_residencia               966\n",
      "lat_municipio_residencia              2824\n",
      "lon_municipio_residencia              2824\n",
      "cod_comunidad_curso                   1034\n",
      "des_comunidad_curso                   1059\n",
      "cod_provincia_curso                    728\n",
      "des_provincia_curso                   1059\n",
      "cod_municipio_curso                     17\n",
      "des_municipio_curso                   1045\n",
      "lat_municipio_curso                   2046\n",
      "lon_municipio_curso                   2046\n",
      "cod_titulacion                         158\n",
      "des_titulacion                         158\n",
      "cod_centro                             158\n",
      "des_centro                             158\n",
      "dtype: int64\n"
     ]
    }
   ],
   "source": [
    "nans(benjamines_G)"
   ]
  }
 ],
 "metadata": {
  "kernelspec": {
   "display_name": "Python 3",
   "language": "python",
   "name": "python3"
  },
  "language_info": {
   "codemirror_mode": {
    "name": "ipython",
    "version": 3
   },
   "file_extension": ".py",
   "mimetype": "text/x-python",
   "name": "python",
   "nbconvert_exporter": "python",
   "pygments_lexer": "ipython3",
   "version": "3.12.2"
  }
 },
 "nbformat": 4,
 "nbformat_minor": 2
}
